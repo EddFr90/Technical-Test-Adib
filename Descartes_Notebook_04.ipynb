{
 "cells": [
  {
   "cell_type": "markdown",
   "metadata": {},
   "source": [
    "# I. Import and explore data sets"
   ]
  },
  {
   "cell_type": "markdown",
   "metadata": {},
   "source": [
    "## I.1 Import data and libraries"
   ]
  },
  {
   "cell_type": "code",
   "execution_count": 1,
   "metadata": {},
   "outputs": [],
   "source": [
    "# Import the required libraries\n",
    "%matplotlib inline\n",
    "import pandas as pd\n",
    "from matplotlib import pyplot\n",
    "import matplotlib.pyplot as plt\n",
    "import numpy as np\n",
    "import seaborn as sns\n",
    "import warnings\n",
    "warnings.filterwarnings(\"ignore\") # optinal (only use to hide warnings)"
   ]
  },
  {
   "cell_type": "code",
   "execution_count": 2,
   "metadata": {},
   "outputs": [],
   "source": [
    "# Defining the figures style and size\n",
    "sns.set()\n",
    "sns.set(rc={'figure.figsize':(11.7,8.27)})\n",
    "sns.set_style('whitegrid')"
   ]
  },
  {
   "cell_type": "code",
   "execution_count": 3,
   "metadata": {},
   "outputs": [
    {
     "name": "stdout",
     "output_type": "stream",
     "text": [
      "- The train data set includ: 8161 rows and 26 columns\n",
      "- The test data set includ: 2141 rows and 26 columns\n"
     ]
    }
   ],
   "source": [
    "# Import the train set and the test set\n",
    "train_set = pd.read_csv('https://raw.githubusercontent.com/descartes-underwriting/data-scientist-technical-test/main/data/auto-insurance-fall-2017/train_auto.csv', low_memory=False)\n",
    "print(f\"- The train data set includ: {train_set.shape[0]} rows and {train_set.shape[1]} columns\")\n",
    "\n",
    "test_set = pd.read_csv('https://raw.githubusercontent.com/descartes-underwriting/data-scientist-technical-test/main/data/auto-insurance-fall-2017/test_auto.csv', low_memory=False)\n",
    "print(f\"- The test data set includ: {test_set.shape[0]} rows and {test_set.shape[1]} columns\")"
   ]
  },
  {
   "cell_type": "markdown",
   "metadata": {},
   "source": [
    "## I.2 Explore and clean the data"
   ]
  },
  {
   "cell_type": "code",
   "execution_count": 4,
   "metadata": {},
   "outputs": [
    {
     "name": "stdout",
     "output_type": "stream",
     "text": [
      "The column headings are the same in both datasets\n"
     ]
    }
   ],
   "source": [
    "# Let's check if the column headings are the same in both data sets\n",
    "dif_1 = [x for x in train_set.columns if x not in test_set.columns] # columns that are present in train_set and absent in test_set \n",
    "dif_2 = [x for x in test_set.columns if x not in train_set.columns] # columns that are present in test_set and absent in train_set\n",
    "\n",
    "if len(dif_1) == 0 and len(dif_2)==0:\n",
    "    print(\"The column headings are the same in both datasets\")\n",
    "else:\n",
    "    print(\"The column headings are NOT the same in both datasets\")"
   ]
  },
  {
   "cell_type": "code",
   "execution_count": 5,
   "metadata": {},
   "outputs": [
    {
     "name": "stdout",
     "output_type": "stream",
     "text": [
      "INDEX            int64\n",
      "TARGET_FLAG      int64\n",
      "TARGET_AMT     float64\n",
      "KIDSDRIV         int64\n",
      "AGE            float64\n",
      "HOMEKIDS         int64\n",
      "YOJ            float64\n",
      "INCOME          object\n",
      "PARENT1         object\n",
      "HOME_VAL        object\n",
      "MSTATUS         object\n",
      "SEX             object\n",
      "EDUCATION       object\n",
      "JOB             object\n",
      "TRAVTIME         int64\n",
      "CAR_USE         object\n",
      "BLUEBOOK        object\n",
      "TIF              int64\n",
      "CAR_TYPE        object\n",
      "RED_CAR         object\n",
      "OLDCLAIM        object\n",
      "CLM_FREQ         int64\n",
      "REVOKED         object\n",
      "MVR_PTS          int64\n",
      "CAR_AGE        float64\n",
      "URBANICITY      object\n",
      "dtype: object\n"
     ]
    },
    {
     "data": {
      "text/html": [
       "<div>\n",
       "<style scoped>\n",
       "    .dataframe tbody tr th:only-of-type {\n",
       "        vertical-align: middle;\n",
       "    }\n",
       "\n",
       "    .dataframe tbody tr th {\n",
       "        vertical-align: top;\n",
       "    }\n",
       "\n",
       "    .dataframe thead th {\n",
       "        text-align: right;\n",
       "    }\n",
       "</style>\n",
       "<table border=\"1\" class=\"dataframe\">\n",
       "  <thead>\n",
       "    <tr style=\"text-align: right;\">\n",
       "      <th></th>\n",
       "      <th>INDEX</th>\n",
       "      <th>TARGET_FLAG</th>\n",
       "      <th>TARGET_AMT</th>\n",
       "      <th>KIDSDRIV</th>\n",
       "      <th>AGE</th>\n",
       "      <th>HOMEKIDS</th>\n",
       "      <th>YOJ</th>\n",
       "      <th>INCOME</th>\n",
       "      <th>PARENT1</th>\n",
       "      <th>HOME_VAL</th>\n",
       "      <th>...</th>\n",
       "      <th>BLUEBOOK</th>\n",
       "      <th>TIF</th>\n",
       "      <th>CAR_TYPE</th>\n",
       "      <th>RED_CAR</th>\n",
       "      <th>OLDCLAIM</th>\n",
       "      <th>CLM_FREQ</th>\n",
       "      <th>REVOKED</th>\n",
       "      <th>MVR_PTS</th>\n",
       "      <th>CAR_AGE</th>\n",
       "      <th>URBANICITY</th>\n",
       "    </tr>\n",
       "  </thead>\n",
       "  <tbody>\n",
       "    <tr>\n",
       "      <th>0</th>\n",
       "      <td>1</td>\n",
       "      <td>0</td>\n",
       "      <td>0.0</td>\n",
       "      <td>0</td>\n",
       "      <td>60.0</td>\n",
       "      <td>0</td>\n",
       "      <td>11.0</td>\n",
       "      <td>$67,349</td>\n",
       "      <td>No</td>\n",
       "      <td>$0</td>\n",
       "      <td>...</td>\n",
       "      <td>$14,230</td>\n",
       "      <td>11</td>\n",
       "      <td>Minivan</td>\n",
       "      <td>yes</td>\n",
       "      <td>$4,461</td>\n",
       "      <td>2</td>\n",
       "      <td>No</td>\n",
       "      <td>3</td>\n",
       "      <td>18.0</td>\n",
       "      <td>Highly Urban/ Urban</td>\n",
       "    </tr>\n",
       "    <tr>\n",
       "      <th>1</th>\n",
       "      <td>2</td>\n",
       "      <td>0</td>\n",
       "      <td>0.0</td>\n",
       "      <td>0</td>\n",
       "      <td>43.0</td>\n",
       "      <td>0</td>\n",
       "      <td>11.0</td>\n",
       "      <td>$91,449</td>\n",
       "      <td>No</td>\n",
       "      <td>$257,252</td>\n",
       "      <td>...</td>\n",
       "      <td>$14,940</td>\n",
       "      <td>1</td>\n",
       "      <td>Minivan</td>\n",
       "      <td>yes</td>\n",
       "      <td>$0</td>\n",
       "      <td>0</td>\n",
       "      <td>No</td>\n",
       "      <td>0</td>\n",
       "      <td>1.0</td>\n",
       "      <td>Highly Urban/ Urban</td>\n",
       "    </tr>\n",
       "    <tr>\n",
       "      <th>2</th>\n",
       "      <td>4</td>\n",
       "      <td>0</td>\n",
       "      <td>0.0</td>\n",
       "      <td>0</td>\n",
       "      <td>35.0</td>\n",
       "      <td>1</td>\n",
       "      <td>10.0</td>\n",
       "      <td>$16,039</td>\n",
       "      <td>No</td>\n",
       "      <td>$124,191</td>\n",
       "      <td>...</td>\n",
       "      <td>$4,010</td>\n",
       "      <td>4</td>\n",
       "      <td>z_SUV</td>\n",
       "      <td>no</td>\n",
       "      <td>$38,690</td>\n",
       "      <td>2</td>\n",
       "      <td>No</td>\n",
       "      <td>3</td>\n",
       "      <td>10.0</td>\n",
       "      <td>Highly Urban/ Urban</td>\n",
       "    </tr>\n",
       "  </tbody>\n",
       "</table>\n",
       "<p>3 rows × 26 columns</p>\n",
       "</div>"
      ],
      "text/plain": [
       "   INDEX  TARGET_FLAG  TARGET_AMT  KIDSDRIV   AGE  HOMEKIDS   YOJ   INCOME  \\\n",
       "0      1            0         0.0         0  60.0         0  11.0  $67,349   \n",
       "1      2            0         0.0         0  43.0         0  11.0  $91,449   \n",
       "2      4            0         0.0         0  35.0         1  10.0  $16,039   \n",
       "\n",
       "  PARENT1  HOME_VAL  ... BLUEBOOK TIF CAR_TYPE RED_CAR  OLDCLAIM CLM_FREQ  \\\n",
       "0      No        $0  ...  $14,230  11  Minivan     yes    $4,461        2   \n",
       "1      No  $257,252  ...  $14,940   1  Minivan     yes        $0        0   \n",
       "2      No  $124,191  ...   $4,010   4    z_SUV      no   $38,690        2   \n",
       "\n",
       "  REVOKED  MVR_PTS CAR_AGE           URBANICITY  \n",
       "0      No        3    18.0  Highly Urban/ Urban  \n",
       "1      No        0     1.0  Highly Urban/ Urban  \n",
       "2      No        3    10.0  Highly Urban/ Urban  \n",
       "\n",
       "[3 rows x 26 columns]"
      ]
     },
     "execution_count": 5,
     "metadata": {},
     "output_type": "execute_result"
    }
   ],
   "source": [
    "# Let's explore the content of train data set\n",
    "print(train_set.dtypes)\n",
    "train_set.iloc[:3,:]"
   ]
  },
  {
   "cell_type": "markdown",
   "metadata": {},
   "source": [
    "We can notice that the type of data for some column is not coherent.\n",
    "For example HOME_VAL, INCOME, BLUEBOOK and OLDCLAIM are object instead of float or integer. This is due to the presence of the character $ and coma in the data."
   ]
  },
  {
   "cell_type": "code",
   "execution_count": 6,
   "metadata": {},
   "outputs": [],
   "source": [
    "# Convert from object to float the data in the columns \"INCOME\", \"HOME_VAL\", \"BLUEBOOK\", \"OLDCLAIM\"\n",
    "\n",
    "columns  = [\"INCOME\", \"HOME_VAL\", \"BLUEBOOK\", \"OLDCLAIM\"]\n",
    "\n",
    "for i in columns:\n",
    "    # Train set\n",
    "    train_set[i] = train_set[i].str.replace(',','') # To replace',' with nothing\n",
    "    train_set[i] = train_set[i].str.replace('$','') # To replace'$' with nothing\n",
    "    train_set[i] = pd.to_numeric(train_set[i],errors = 'coerce') # Convert object to float\n",
    "    \n",
    "    # Test set\n",
    "    test_set[i] = test_set[i].str.replace(',','') \n",
    "    test_set[i] = test_set[i].str.replace('$','') \n",
    "    test_set[i] = pd.to_numeric(test_set[i],errors = 'coerce')"
   ]
  },
  {
   "cell_type": "markdown",
   "metadata": {},
   "source": [
    "### I.2.1 Missing data"
   ]
  },
  {
   "cell_type": "code",
   "execution_count": 7,
   "metadata": {},
   "outputs": [
    {
     "name": "stdout",
     "output_type": "stream",
     "text": [
      "- Train set:\n",
      "      Column  Number of NaN  Percentage of NaN\n",
      "0       AGE              6               0.07\n",
      "1       YOJ            454               5.56\n",
      "2    INCOME            445               5.45\n",
      "3  HOME_VAL            464               5.69\n",
      "4       JOB            526               6.45\n",
      "5   CAR_AGE            510               6.25\n",
      "\n",
      "- Test set:\n",
      "         Column  Number of NaN  Percentage of NaN\n",
      "0  TARGET_FLAG           2141             100.00\n",
      "1   TARGET_AMT           2141             100.00\n",
      "2          AGE              1               0.05\n",
      "3          YOJ             94               4.39\n",
      "4       INCOME            125               5.84\n",
      "5     HOME_VAL            111               5.18\n",
      "6          JOB            139               6.49\n",
      "7      CAR_AGE            129               6.03\n",
      "\n"
     ]
    }
   ],
   "source": [
    "# Let's check the number and percentage of missing data in each column of both data sets\n",
    "\n",
    "for tab, data_set in zip([train_set, test_set], [\"Train set\", \"Test set\"]):\n",
    "    column_name =[]; percent_nan=[]; number_nan =[]\n",
    "    column_with_nan = tab.columns[tab.isnull().any()]\n",
    "    \n",
    "    for column in column_with_nan:\n",
    "        column_name.append(column)\n",
    "        number_nan.append(tab[column].isnull().sum())\n",
    "        percent_nan.append(round(tab[column].isnull().sum()*100/len(tab),2))\n",
    "    \n",
    "    tab_nan = pd.DataFrame(column_name, columns = [\"Column\"])\n",
    "    tab_nan[\"Number of NaN\"], tab_nan[\"Percentage of NaN\"] = number_nan, percent_nan\n",
    "    print(f\"- {data_set}:\\n {tab_nan}\\n\")"
   ]
  },
  {
   "cell_type": "markdown",
   "metadata": {},
   "source": [
    "In both datasets the number of NaN does not exceed 6% per column (except 100% of NaN for the target columns in the test set because it is the variable to predict)."
   ]
  },
  {
   "cell_type": "markdown",
   "metadata": {},
   "source": [
    "### I.2.2 Imputation"
   ]
  },
  {
   "cell_type": "code",
   "execution_count": 8,
   "metadata": {},
   "outputs": [
    {
     "name": "stdout",
     "output_type": "stream",
     "text": [
      "- Train set shape: (7205, 26)\n",
      "- Test set shape (1612, 26)\n"
     ]
    }
   ],
   "source": [
    "# Drop NaN of some columns where imputation could potentially introduce errors\n",
    "\n",
    "# Train set\n",
    "train_set = train_set.dropna(subset=['JOB', 'AGE','YOJ'])\n",
    "print(f\"- Train set shape: {train_set.shape}\")\n",
    "\n",
    "# Test set \n",
    "# I will drop all the NaN of Test set because it is on this data set that I will make the predictions\n",
    "test_set = test_set.dropna(subset=['JOB', 'AGE', 'YOJ', 'INCOME', 'HOME_VAL', 'CAR_AGE'])\n",
    "print(f'- Test set shape {test_set.shape}')"
   ]
  },
  {
   "cell_type": "markdown",
   "metadata": {},
   "source": [
    "To avoid further data loss, I will apply a mean imputation based on the categorical variable 'JOB'.\n",
    "\n",
    "Here's the figure that shows the distribution of values of INCOME, HOME_VALUE and CAR_AGE per type of JOB"
   ]
  },
  {
   "cell_type": "code",
   "execution_count": 9,
   "metadata": {},
   "outputs": [
    {
     "data": {
      "image/png": "[encoded data removed]",
      "text/plain": [
       "<Figure size 842.4x595.44 with 4 Axes>"
      ]
     },
     "metadata": {},
     "output_type": "display_data"
    }
   ],
   "source": [
    "fig, axes = plt.subplots(2, 2)\n",
    "\n",
    "# INCOME\n",
    "p = sns.boxplot(ax = axes[0,0], x=train_set[\"INCOME\"], y=train_set[\"JOB\"], color = \"lightgreen\")\n",
    "p.set_xlabel (\"Income ($)\\n\", fontsize=14)\n",
    "p.set_ylabel (\"Job\", fontsize=14)\n",
    "\n",
    "# HOME_VAL\n",
    "q = sns.boxplot(ax = axes[0,1], x=train_set[\"HOME_VAL\"], y=train_set[\"JOB\"], color = \"lightgreen\")\n",
    "q.set_xlabel (\"Home value ($)\", fontsize=14)\n",
    "q.set(ylabel=None)\n",
    "q.axes.yaxis.set_visible(False)# y axis invisible\n",
    "\n",
    "# CAR_AGE\n",
    "q = sns.boxplot(ax = axes[1,0], x=train_set[\"CAR_AGE\"], y=train_set[\"JOB\"], color = \"lightgreen\")\n",
    "q.set_xlabel (\"Car age (year)\", fontsize=14)\n",
    "q.set_ylabel (\"Job\", fontsize=14)\n",
    "axes.flat[-1].set_visible(False) # to remove the last empty figure"
   ]
  },
  {
   "cell_type": "markdown",
   "metadata": {},
   "source": [
    "The distribution of values INCOME, HOME_VALUE and CAR_AGE is heterogeneous between the different jobs. I will impute the missing data of these columns by the corresponding mean of each job category."
   ]
  },
  {
   "cell_type": "code",
   "execution_count": 10,
   "metadata": {},
   "outputs": [],
   "source": [
    "# Calculation of mean INCOME, HOME_VAL and CAR_AGE by JOB categories\n",
    "columns = ['INCOME', 'HOME_VAL', 'CAR_AGE', 'JOB']\n",
    "\n",
    "df_mean = train_set.dropna(subset=columns).loc[:,columns]\n",
    "df_mean = df_mean.groupby('JOB').mean()\n",
    "df_mean = df_mean.rename_axis('index').reset_index().rename(columns = {'index':'JOB',\n",
    "                                                                       'INCOME':'INCOME_mean',\n",
    "                                                                       'HOME_VAL':'HOME_VAL_mean',\n",
    "                                                                       'CAR_AGE':'CAR_AGE_mean'})\n",
    "\n",
    "# Merge the means to the original data\n",
    "train_set = pd.merge(train_set, df_mean, on=['JOB'], how='left')\n",
    "\n",
    "\n",
    "# Define a function to replace the each NaN \n",
    "# of the columns INCOME, HOME_VAL and CAR_AGE by their corresponding means\n",
    "for i, j in zip(['INCOME', 'HOME_VAL', 'CAR_AGE'], ['INCOME_mean', 'HOME_VAL_mean', 'CAR_AGE_mean']):\n",
    "    def mean_imputation(x):\n",
    "        if np.isnan(x[i]):\n",
    "            return x[j]\n",
    "        else:\n",
    "            return x[i]\n",
    "\n",
    "    train_set[i] = train_set.apply(lambda x: mean_imputation(x), axis=1)\n",
    "\n",
    "# Drop all the columns 'mean'\n",
    "train_set.drop(['INCOME_mean', 'HOME_VAL_mean', 'CAR_AGE_mean'], axis=1, inplace=True)"
   ]
  },
  {
   "cell_type": "markdown",
   "metadata": {},
   "source": [
    "# II. Feature engineering"
   ]
  },
  {
   "cell_type": "markdown",
   "metadata": {},
   "source": [
    "### II.1 Transform categorical variables into binary"
   ]
  },
  {
   "cell_type": "code",
   "execution_count": 11,
   "metadata": {},
   "outputs": [],
   "source": [
    "# Columns with two unique values (Yes & No): 'No' will be replaced by 0 and 'Yes' by 1. \n",
    "# Column SEX becomes SEX_FEMALE where 'z_F' will be replaced by 1 and 'M' by 0.\n",
    "# Same logic applied for CAR_USE and URBANICITY.\n",
    "\n",
    "columns  = [\"PARENT1\", \"MSTATUS\", \"SEX\", \"CAR_USE\", \"RED_CAR\", \"REVOKED\", \"URBANICITY\"]\n",
    "\n",
    "for i in columns:\n",
    "    # Train set\n",
    "    train_set[i] = train_set[i].str.replace('No|z_No|no|M|Commercial|z_Highly Rural/ Rural', '0') # To replace all  with 0\n",
    "    train_set[i] = train_set[i].str.replace('Yes|yes|z_F|Private|Highly Urban/ Urban', '1') # To replace'Yes' with 1\n",
    "    \n",
    "    # Test set\n",
    "    test_set[i] = test_set[i].str.replace('No|z_No|no|z_F|Commercial|z_Highly Rural/ Rural', '0') # To replace all  with 0\n",
    "    test_set[i] = test_set[i].str.replace('Yes|yes|M|Private|Highly Urban/ Urban', '1') # To replace'Yes' with 1\n",
    "    \n",
    "    # Convert object to float\n",
    "    train_set[i] = pd.to_numeric(train_set[i],errors = 'coerce')\n",
    "    test_set[i] = pd.to_numeric(test_set[i],errors = 'coerce')\n",
    "    \n",
    "train_set = train_set.rename(columns={'SEX':'SEX_FEMALE', 'CAR_USE':'PRIVATE_USE'}) # more suitable column name\n",
    "test_set = test_set.rename(columns={'SEX':'SEX_FEMALE', 'CAR_USE':'PRIVATE_USE'}) # more suitable column name"
   ]
  },
  {
   "cell_type": "code",
   "execution_count": 12,
   "metadata": {},
   "outputs": [],
   "source": [
    "# Transformation of 'JOB' and 'CAR_TYPE' columns into binary data using dummies\n",
    "\n",
    "# Train set\n",
    "for i in ['JOB', 'CAR_TYPE']:\n",
    "    df_dummies = pd.get_dummies(train_set[i], prefix=i)\n",
    "    train_set = train_set.join(df_dummies)\n",
    "\n",
    "train_set.drop(['JOB', 'CAR_TYPE'], axis=1, inplace=True) # drop the original columns\n",
    "\n",
    "\n",
    "# Test set\n",
    "for i in ['JOB', 'CAR_TYPE']:\n",
    "    df_dummies = pd.get_dummies(test_set[i], prefix=i)\n",
    "    test_set = test_set.join(df_dummies)\n",
    "\n",
    "test_set.drop(['JOB', 'CAR_TYPE'], axis=1, inplace=True)"
   ]
  },
  {
   "cell_type": "code",
   "execution_count": 13,
   "metadata": {},
   "outputs": [
    {
     "name": "stdout",
     "output_type": "stream",
     "text": [
      "I ended up with a:\n",
      "- Train set of 7205 rows and 35 columns\n",
      "- Test set of 1612 rows and 35 columns\n"
     ]
    }
   ],
   "source": [
    "# Droping columns that I don't use in models.\n",
    "# Droping EDUCATION: it is less relevant than JOB and to avoid adding 5 more features from the EDUCATION columns\n",
    "\n",
    "train_set_final = train_set.drop(['INDEX', 'TARGET_AMT', 'EDUCATION'], axis=1)\n",
    "test_set_final = test_set.drop(['INDEX', 'TARGET_AMT', 'EDUCATION'], axis=1)\n",
    "\n",
    "print(f'I ended up with a:\\n- Train set of {train_set_final.shape[0]} rows and {train_set_final.shape[1]} columns')\n",
    "print(f'- Test set of {test_set_final.shape[0]} rows and {test_set_final.shape[1]} columns')"
   ]
  },
  {
   "cell_type": "markdown",
   "metadata": {},
   "source": [
    "# III. Modeling"
   ]
  },
  {
   "cell_type": "markdown",
   "metadata": {},
   "source": [
    "### III.1   Extract the features (X) and the target 'TARGET_FLAG' (y)  and split the data into training and test"
   ]
  },
  {
   "cell_type": "code",
   "execution_count": 14,
   "metadata": {},
   "outputs": [],
   "source": [
    "# Required libraries\n",
    "from sklearn.model_selection import train_test_split\n",
    "from sklearn import preprocessing"
   ]
  },
  {
   "cell_type": "code",
   "execution_count": 15,
   "metadata": {},
   "outputs": [
    {
     "name": "stdout",
     "output_type": "stream",
     "text": [
      "X_train shape: (5403, 34)\n",
      "y_train shape: (5403,)\n",
      "\n",
      "X_test shape: (1802, 34)\n",
      "y_test shape: (1802,)\n"
     ]
    }
   ],
   "source": [
    "# Features (X)\n",
    "train_features = train_set_final[[i for i in list(train_set_final.columns) if i != \"TARGET_FLAG\"]]\n",
    "X = train_features.loc[:,:]\n",
    "\n",
    "# Target (y)\n",
    "y = train_set_final.loc[:,\"TARGET_FLAG\"]\n",
    "\n",
    "# Split the Train set into X_train, X_test, y_train, y_test\n",
    "X_train, X_test, y_train, y_test = train_test_split(X, y,\n",
    "                                                    stratify=y,\n",
    "                                                    shuffle=True,\n",
    "                                                    test_size=0.25)\n",
    "\n",
    "# Standardize the data\n",
    "std_scale = preprocessing.StandardScaler().fit(X_train)\n",
    "\n",
    "X_train_std = std_scale.transform(X_train)\n",
    "X_test_std = std_scale.transform(X_test)\n",
    "\n",
    "print(f'X_train shape: {X_train_std.shape}\\ny_train shape: {y_train.shape}\\n')\n",
    "print(f'X_test shape: {X_test_std.shape}\\ny_test shape: {y_test.shape}')"
   ]
  },
  {
   "cell_type": "markdown",
   "metadata": {},
   "source": [
    "### III.2 Models and metrics selection"
   ]
  },
  {
   "cell_type": "markdown",
   "metadata": {},
   "source": [
    "- Accuracy: \n",
    "it measures how many observations, both positive and negative, were correctly classified.\n",
    "\n",
    "\n",
    "- Precision: \n",
    "it measures how many observations predicted as positive are in fact positive, tp/(tp+fp).\n",
    "\n",
    "\n",
    "- Recall:\n",
    "it measures how many observations out of all positive observations have we classified as positive, tp/(tp+fn).\n",
    "\n",
    "\n",
    "- F1_score Weighted:\n",
    "F1 is a harmonic mean of precision and recall.\n",
    "F1_weighted calculate f1 for each label, and returns the average considering the proportion for each label in the dataset.\n",
    "\n",
    "\n",
    "- Roc curve:\n",
    "it is a chart that visualizes the tradeoff between true positive rate (TPR) and false positive rate (FPR).\n",
    "\n",
    "\n",
    "- Roc score:\n",
    "it calculate the Area under the ROC Curve in order to get one number that tells us how good our curve is. "
   ]
  },
  {
   "cell_type": "code",
   "execution_count": 16,
   "metadata": {},
   "outputs": [],
   "source": [
    "# Let's define a function for each of these metrics\n",
    "def accuracy_score(test, pred):\n",
    "    Acc = accuracy_score(test, pred)\n",
    "    return Acc\n",
    "\n",
    "def precision(test, pred):\n",
    "    prec = precision_score(test, pred, average='binary')\n",
    "    return prec\n",
    "\n",
    "def recall(test, pred):\n",
    "    rec = recall_score(test, pred, average='binary')\n",
    "    return rec\n",
    "\n",
    "def f1_weighted(test, pred):\n",
    "    f1 = f1_score(test, pred, average = 'weighted')\n",
    "    return f1\n",
    "\n",
    "def roc(test, pred):\n",
    "    pred = classifier.predict_proba(X_test_std)\n",
    "    pred = pred[:, 1]\n",
    "    roc_auc = roc_auc_score(test, pred) # calculate roc score\n",
    "    \n",
    "    ns_probs = [0 for _ in range(len(test))] # generate 0 (majority class)\n",
    "    ns_fpr, ns_tpr, _ = roc_curve(test, ns_probs)\n",
    "    model_fpr, model_tpr, _ = roc_curve(test, pred) # calculate roc curve\n",
    "    \n",
    "    pyplot.plot(ns_fpr, ns_tpr, linestyle='--') # plot the roc curve for each classifier\n",
    "    pyplot.plot(model_fpr, model_tpr, marker='.', label=classifier.__class__.__name__)\n",
    "    pyplot.xlabel('False Positive Rate'), pyplot.ylabel('True Positive Rate'), pyplot.legend()\n",
    "        \n",
    "    return roc_auc\n",
    "    return pyplot.show()\n",
    "    \n",
    "    \n",
    "# Print the scores\n",
    "def print_score(test, pred):\n",
    "    print(f\"- Classifier: {classifier.__class__.__name__}\")\n",
    "    print(f\"Accuracy: {accuracy_score(test, pred)}\")\n",
    "    print(f\"Precision: {precision(test, pred)}\")\n",
    "    print(f\"Recall: {recall(test, pred)}\")\n",
    "    print(f\"F1 weighted: {f1_weighted(test, pred)}\")\n",
    "    print(f\"Roc Auc score: {roc(test, pred)}\\n\")    "
   ]
  },
  {
   "cell_type": "code",
   "execution_count": 17,
   "metadata": {},
   "outputs": [
    {
     "name": "stdout",
     "output_type": "stream",
     "text": [
      "- Classifier: LogisticRegression\n",
      "Accuracy: 0.7963374028856826\n",
      "Precision: 0.6677018633540373\n",
      "Recall: 0.45263157894736844\n",
      "F1 weighted: 0.7823393369082697\n",
      "Roc Auc score: 0.8067139967477096\n",
      "\n",
      "- Classifier: SVC\n",
      "Accuracy: 0.7957824639289678\n",
      "Precision: 0.6877192982456141\n",
      "Recall: 0.4126315789473684\n",
      "F1 weighted: 0.777076884411913\n",
      "Roc Auc score: 0.7888954110974498\n",
      "\n",
      "- Classifier: DecisionTreeClassifier\n",
      "Accuracy: 0.7125416204217536\n",
      "Precision: 0.4535637149028078\n",
      "Recall: 0.4421052631578947\n",
      "F1 weighted: 0.7113498105505224\n",
      "Roc Auc score: 0.6257248244953001\n",
      "\n",
      "- Classifier: RandomForestClassifier\n",
      "Accuracy: 0.7902330743618202\n",
      "Precision: 0.7063829787234043\n",
      "Recall: 0.3494736842105263\n",
      "F1 weighted: 0.7634775160569962\n",
      "Roc Auc score: 0.8089247610359735\n",
      "\n"
     ]
    },
    {
     "data": {
      "image/png": "[encoded data removed]",
      "text/plain": [
       "<Figure size 842.4x595.44 with 1 Axes>"
      ]
     },
     "metadata": {},
     "output_type": "display_data"
    }
   ],
   "source": [
    "# Required libraries\n",
    "from sklearn.metrics import f1_score, accuracy_score, precision_score, recall_score\n",
    "from sklearn.metrics import roc_curve, roc_auc_score\n",
    "from sklearn import svm\n",
    "from sklearn.linear_model import LogisticRegression, SGDClassifier\n",
    "from sklearn.tree import DecisionTreeClassifier\n",
    "from sklearn.ensemble import RandomForestClassifier\n",
    "\n",
    "# Define classifier\n",
    "lr = LogisticRegression()\n",
    "svm = svm.SVC(probability=True)\n",
    "dtc = DecisionTreeClassifier()\n",
    "rfc = RandomForestClassifier()\n",
    "\n",
    "for classifier in [lr, svm, dtc, rfc]:\n",
    "    classifier.fit(X_train_std, y_train)\n",
    "    y_pred = classifier.predict(X_test_std)\n",
    "    \n",
    "    # Print the defined metrics above for each classifier\n",
    "    print_score(y_test, y_pred)"
   ]
  },
  {
   "cell_type": "markdown",
   "metadata": {},
   "source": [
    "The results show that the DecisionTreeClassifier has a lower performance than the other classifiers. So, in the next part I will optimize the hyperparameters of LogisticRegression, SVC and RandomForestClassifier\n",
    "\n",
    "Moreover, we can notice that the accuracy seems to overestimate the performance of the classifiers. However, F1_score Weighted is more suitable because it takes into account each class’s occurrences in the data set.\n",
    "Thus, F1_weighted will be used to optimize and evaluate the 3 chosen models"
   ]
  },
  {
   "cell_type": "markdown",
   "metadata": {},
   "source": [
    "### III.3 Hyper parameters optimization on the selected models"
   ]
  },
  {
   "cell_type": "code",
   "execution_count": 18,
   "metadata": {},
   "outputs": [],
   "source": [
    "from sklearn import svm\n",
    "\n",
    "# Define model\n",
    "lr = LogisticRegression()\n",
    "svm_model = svm.SVC()\n",
    "rfc = RandomForestClassifier()\n",
    "\n",
    "# Define hyperparemeters for each model\n",
    "grid_lr = {'C': np.logspace(-3,3,7),\n",
    "           'max_iter': [100, 1000, 10000]}\n",
    "\n",
    "\n",
    "grid_svm = {'C': [10, 1, 0.1, 0.01, 0.001, 0.0001],\n",
    "            'kernel': ['linear', 'rbf', 'sigmoid']} # rbf: gaussian\n",
    "\n",
    "\n",
    "grid_rfc = {'n_estimators': [200, 500],\n",
    "        'max_features': ['auto', 'sqrt', 'log2'],\n",
    "        'max_depth' : [4,6,8],\n",
    "        'criterion' :['gini', 'entropy']}\n",
    "\n",
    "# Define the scoring\n",
    "score = \"f1_weighted\""
   ]
  },
  {
   "cell_type": "code",
   "execution_count": 19,
   "metadata": {
    "scrolled": true
   },
   "outputs": [
    {
     "name": "stdout",
     "output_type": "stream",
     "text": [
      "LogisticRegression(): tuned hpyerparameters: {'C': 1.0, 'max_iter': 100}\n",
      "F1 score: 0.775162637189241\n",
      "----------------------------------------------------------------------------------------------------\n",
      "SVC(): tuned hpyerparameters: {'C': 1, 'kernel': 'rbf'}\n",
      "F1 score: 0.7725449308725824\n",
      "----------------------------------------------------------------------------------------------------\n",
      "RandomForestClassifier(): tuned hpyerparameters: {'criterion': 'gini', 'max_depth': 8, 'max_features': 'log2', 'n_estimators': 200}\n",
      "F1 score: 0.7392555013622294\n",
      "----------------------------------------------------------------------------------------------------\n"
     ]
    }
   ],
   "source": [
    "import timeit\n",
    "from sklearn import svm\n",
    "from sklearn.model_selection import GridSearchCV\n",
    "from sklearn.linear_model import LogisticRegression\n",
    "\n",
    "\n",
    "# Create emplty list to add each running time and F1 score of each classifier in these lists\n",
    "Models, F1_score, Time = [], [], [] \n",
    "\n",
    "\n",
    "# Hyperparameters tunning for each model\n",
    "for model, grid in zip([lr, svm_model, rfc], [grid_lr, grid_svm, grid_rfc]):\n",
    "            \n",
    "    start_time = timeit.default_timer() # start the timer\n",
    "    \n",
    "    # GridSearch                                \n",
    "    gs_model = GridSearchCV(model, grid, cv=10, scoring=score)\n",
    "    \n",
    "    # Fit the model\n",
    "    gs_model.fit(X_train_std, y_train)\n",
    "    \n",
    "    elapsed = timeit.default_timer() - start_time\n",
    "    \n",
    "    # Add the running time of each classifier to the list Time\n",
    "    Models.append(model)\n",
    "    Time.append(round(elapsed/60, 2)) # stop the timer. time in minutes (ealpsed/60)\n",
    "    \n",
    "    # Print the output of the best hyperparameters\n",
    "    print(f'{model}: tuned hpyerparameters: {gs_model.best_params_}')\n",
    "    print(f'F1 score: {gs_model.best_score_}')\n",
    "    print('--'*50)"
   ]
  },
  {
   "cell_type": "code",
   "execution_count": 20,
   "metadata": {},
   "outputs": [
    {
     "data": {
      "text/html": [
       "<div>\n",
       "<style scoped>\n",
       "    .dataframe tbody tr th:only-of-type {\n",
       "        vertical-align: middle;\n",
       "    }\n",
       "\n",
       "    .dataframe tbody tr th {\n",
       "        vertical-align: top;\n",
       "    }\n",
       "\n",
       "    .dataframe thead th {\n",
       "        text-align: right;\n",
       "    }\n",
       "</style>\n",
       "<table border=\"1\" class=\"dataframe\">\n",
       "  <thead>\n",
       "    <tr style=\"text-align: right;\">\n",
       "      <th></th>\n",
       "      <th>Model</th>\n",
       "      <th>F1_score</th>\n",
       "      <th>Tunning_Time (min)</th>\n",
       "    </tr>\n",
       "  </thead>\n",
       "  <tbody>\n",
       "    <tr>\n",
       "      <th>0</th>\n",
       "      <td>LogisticRegression()</td>\n",
       "      <td>0.78</td>\n",
       "      <td>0.05</td>\n",
       "    </tr>\n",
       "    <tr>\n",
       "      <th>1</th>\n",
       "      <td>SVC()</td>\n",
       "      <td>0.78</td>\n",
       "      <td>3.24</td>\n",
       "    </tr>\n",
       "    <tr>\n",
       "      <th>2</th>\n",
       "      <td>RandomForestClassifier()</td>\n",
       "      <td>0.73</td>\n",
       "      <td>7.42</td>\n",
       "    </tr>\n",
       "  </tbody>\n",
       "</table>\n",
       "</div>"
      ],
      "text/plain": [
       "                      Model  F1_score  Tunning_Time (min)\n",
       "0      LogisticRegression()      0.78                0.05\n",
       "1                     SVC()      0.78                3.24\n",
       "2  RandomForestClassifier()      0.73                7.42"
      ]
     },
     "execution_count": 20,
     "metadata": {},
     "output_type": "execute_result"
    }
   ],
   "source": [
    "# Final models with optimal hyperparameters\n",
    "\n",
    "lr_final = LogisticRegression(C=1, max_iter=100)\n",
    "\n",
    "svm_final = svm.SVC(C=1, kernel='rbf')\n",
    "\n",
    "rfc_final = RandomForestClassifier(criterion='gini',\n",
    "                                     max_depth=8,\n",
    "                                     max_features='log2',\n",
    "                                     n_estimators=200)\n",
    "\n",
    "\n",
    "# Fit the model\n",
    "for model_final in [lr_final, svm_final, rfc_final]:\n",
    "    # fit the model\n",
    "    model_final.fit(X_train_std, y_train)\n",
    "    \n",
    "    # predict on the test set\n",
    "    y_pred = model_final.predict(X_test_std)\n",
    "    \n",
    "    # Estimate the metric\n",
    "    F1_score.append(round(f1_weighted(y_test, y_pred), 2))\n",
    "    \n",
    "\n",
    "# Print the results of each model\n",
    "Model_results = pd.DataFrame(list(zip(Models, F1_score, Time)), columns = [\"Model\", \"F1_score\", \"Tunning_Time (min)\"])\n",
    "Model_results"
   ]
  },
  {
   "cell_type": "markdown",
   "metadata": {},
   "source": [
    "- Conclusion:\n",
    "\n",
    "By comparing the performances of the classifiers on X_test, we can notice that the F1_score and the running time are the most optimal for LogisticRegression().\n",
    "\n",
    "Logistic Regression Classifier will be used to predict 'TARGET_FLAG' of the Test set"
   ]
  },
  {
   "cell_type": "markdown",
   "metadata": {},
   "source": [
    "### III.4 Prediction on the Test set"
   ]
  },
  {
   "cell_type": "code",
   "execution_count": 21,
   "metadata": {},
   "outputs": [
    {
     "data": {
      "text/html": [
       "<div>\n",
       "<style scoped>\n",
       "    .dataframe tbody tr th:only-of-type {\n",
       "        vertical-align: middle;\n",
       "    }\n",
       "\n",
       "    .dataframe tbody tr th {\n",
       "        vertical-align: top;\n",
       "    }\n",
       "\n",
       "    .dataframe thead th {\n",
       "        text-align: right;\n",
       "    }\n",
       "</style>\n",
       "<table border=\"1\" class=\"dataframe\">\n",
       "  <thead>\n",
       "    <tr style=\"text-align: right;\">\n",
       "      <th></th>\n",
       "      <th>INDEX</th>\n",
       "      <th>TARGET_FLAG</th>\n",
       "    </tr>\n",
       "  </thead>\n",
       "  <tbody>\n",
       "    <tr>\n",
       "      <th>0</th>\n",
       "      <td>3</td>\n",
       "      <td>0</td>\n",
       "    </tr>\n",
       "    <tr>\n",
       "      <th>1</th>\n",
       "      <td>9</td>\n",
       "      <td>0</td>\n",
       "    </tr>\n",
       "    <tr>\n",
       "      <th>2</th>\n",
       "      <td>10</td>\n",
       "      <td>0</td>\n",
       "    </tr>\n",
       "    <tr>\n",
       "      <th>3</th>\n",
       "      <td>21</td>\n",
       "      <td>0</td>\n",
       "    </tr>\n",
       "    <tr>\n",
       "      <th>4</th>\n",
       "      <td>31</td>\n",
       "      <td>0</td>\n",
       "    </tr>\n",
       "  </tbody>\n",
       "</table>\n",
       "</div>"
      ],
      "text/plain": [
       "   INDEX  TARGET_FLAG\n",
       "0      3            0\n",
       "1      9            0\n",
       "2     10            0\n",
       "3     21            0\n",
       "4     31            0"
      ]
     },
     "execution_count": 21,
     "metadata": {},
     "output_type": "execute_result"
    }
   ],
   "source": [
    "# Drop the target variable in Descartes underwriting test set\n",
    "test_set_final.drop(['TARGET_FLAG'], axis=1, inplace=True)\n",
    "\n",
    "# Standarize the features\n",
    "test_set_std = std_scale.transform(test_set_final)\n",
    "prediction = lr_final.predict(test_set_std).tolist()\n",
    "\n",
    "# Create a data frame which contains the columns 'INDEX' and predicted 'TARGET_FLAG'.\n",
    "my_prediction = pd.DataFrame()\n",
    "\n",
    "my_prediction['INDEX'], my_prediction['TARGET_FLAG'] = test_set['INDEX'].tolist(), prediction\n",
    "my_prediction.head()"
   ]
  },
  {
   "cell_type": "code",
   "execution_count": 26,
   "metadata": {},
   "outputs": [],
   "source": [
    "# Save the predictions table into a csv file\n",
    "my_prediction.to_csv(\"my_prediction_ao.csv\", index=False)"
   ]
  }
 ],
 "metadata": {
  "kernelspec": {
   "display_name": "Python 3",
   "language": "python",
   "name": "python3"
  },
  "language_info": {
   "codemirror_mode": {
    "name": "ipython",
    "version": 3
   },
   "file_extension": ".py",
   "mimetype": "text/x-python",
   "name": "python",
   "nbconvert_exporter": "python",
   "pygments_lexer": "ipython3",
   "version": "3.8.5"
  }
 },
 "nbformat": 4,
 "nbformat_minor": 4
}
